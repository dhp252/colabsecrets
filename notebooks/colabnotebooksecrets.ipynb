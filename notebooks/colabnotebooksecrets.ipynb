{
 "cells": [
  {
   "cell_type": "markdown",
   "metadata": {
    "colab_type": "text",
    "id": "view-in-github"
   },
   "source": [
    "<a href=\"https://colab.research.google.com/github/davidbau/colabsecrets/blob/master/notebooks/colabnotebooksecrets.ipynb\" target=\"_parent\"><img src=\"https://colab.research.google.com/assets/colab-badge.svg\" alt=\"Open In Colab\"/></a>"
   ]
  },
  {
   "cell_type": "markdown",
   "metadata": {
    "colab_type": "text",
    "id": "0DvOgNV0KhLk"
   },
   "source": [
    "# What makes Colab so great?"
   ]
  },
  {
   "cell_type": "code",
   "execution_count": null,
   "metadata": {
    "colab": {
     "base_uri": "https://localhost:8080/",
     "height": 306
    },
    "colab_type": "code",
    "id": "fUe1NF_pKdwE",
    "outputId": "7de4af5a-bd15-439a-e507-04d0a84572bb"
   },
   "outputs": [],
   "source": [
    "%%bash\n",
    "nvidia-smi"
   ]
  },
  {
   "cell_type": "markdown",
   "metadata": {
    "colab_type": "text",
    "id": "kxogaU3rLMwB"
   },
   "source": [
    "Yes, that's right.  Every Colab user gets their very own GPU, complements of Google!\n",
    "\n",
    "The main disadvantage of colab it might not come with the exact environment you are used to.  But there are two reasons this is not really a problem.\n",
    "\n",
    "1. The defaults are pretty reasonable.\n",
    "2. You are root.\n",
    "\n",
    "Check out the defaults: they include the latest versions of pytorch, tensorflow, java, gcc, etc."
   ]
  },
  {
   "cell_type": "code",
   "execution_count": null,
   "metadata": {
    "colab": {
     "base_uri": "https://localhost:8080/",
     "height": 1000
    },
    "colab_type": "code",
    "id": "VN3SXrXiMCzi",
    "outputId": "ee3c473f-2924-4ec1-c4e5-547474be975c",
    "scrolled": true
   },
   "outputs": [],
   "source": [
    "%%bash\n",
    "\n",
    "# As of this writing, colab gives us an Ubuntu 18.04 machine.\n",
    "lsb_release -a\n",
    "\n",
    "# It includes a whole pile of software, e.g., perl, python, java, gcc, git, etc\n",
    "apt list --installed\n",
    "\n",
    "# And it preinstalls a healthy set of python: pytorch, tensorflow, pandas, etc.\n",
    "pip list"
   ]
  },
  {
   "cell_type": "markdown",
   "metadata": {
    "colab_type": "text",
    "id": "FQVGjx2KNWWf"
   },
   "source": [
    "And then check out the root access. You can install new packages at will."
   ]
  },
  {
   "cell_type": "code",
   "execution_count": null,
   "metadata": {
    "colab": {
     "base_uri": "https://localhost:8080/",
     "height": 34
    },
    "colab_type": "code",
    "id": "7DS8LnB1tyvV",
    "outputId": "c250c9b4-573a-4399-8431-d0f648292bd5"
   },
   "outputs": [],
   "source": [
    "%%bash\n",
    "whoami"
   ]
  },
  {
   "cell_type": "code",
   "execution_count": null,
   "metadata": {
    "colab": {
     "base_uri": "https://localhost:8080/",
     "height": 1000
    },
    "colab_type": "code",
    "id": "TgFU5yugLL_F",
    "outputId": "ad576809-fa91-4ee5-c689-07719e21e4b2"
   },
   "outputs": [],
   "source": [
    "%%bash\n",
    "apt-get install -q blender"
   ]
  },
  {
   "cell_type": "markdown",
   "metadata": {
    "colab_type": "text",
    "id": "1FRGWMs2PCpc"
   },
   "source": [
    "# Colab Notebook Boostrapping\n",
    "\n",
    "The main Google Colab disadvantage is that your data and environment are not there yet. So to make a Colab notebook, here is our plan of attack.\n",
    "1. Make a standard Jupyter notebook in your own project, on your own machine.\n",
    "2. Then make the notebook bring in its own dependencies when running on colab.\n",
    "\n",
    "Once we have a working notebook, at the top all we need to do is include a small section that runs only if the notebook is running on Colab.  It can look something like this:\n",
    "\n"
   ]
  },
  {
   "cell_type": "code",
   "execution_count": null,
   "metadata": {
    "colab": {
     "base_uri": "https://localhost:8080/",
     "height": 105
    },
    "colab_type": "code",
    "id": "vbougHyDSh62",
    "outputId": "cdcb72a1-eb26-42ab-d289-be3f8ce37c26"
   },
   "outputs": [],
   "source": [
    "%%bash\n",
    "\n",
    "# Exit this cell if not running in colab.\n",
    "!(stat -t /usr/local/lib/*/dist-packages/google/colab > /dev/null 2>&1) && exit \n",
    "pip install ninja 2>> install.log\n",
    "git clone https://github.com/davidbau/colabsecrets.git tutorial_code 2>> install.log"
   ]
  },
  {
   "cell_type": "code",
   "execution_count": null,
   "metadata": {
    "colab": {},
    "colab_type": "code",
    "id": "F3Cm8KuhY7qg"
   },
   "outputs": [],
   "source": [
    "try: # this will alter the path if inside Google colab.\n",
    "    import google.colab, sys, torch\n",
    "    sys.path.append('/content/tutorial_code')\n",
    "    if not torch.cuda.is_available():\n",
    "        print(\"Change runtime type to include a GPU.\")  \n",
    "except:\n",
    "    pass"
   ]
  },
  {
   "cell_type": "markdown",
   "metadata": {
    "colab_type": "text",
    "id": "0PY3uvbDdJEv"
   },
   "source": [
    "# Loading and Saving Data"
   ]
  },
  {
   "cell_type": "markdown",
   "metadata": {
    "colab_type": "text",
    "id": "ca765OaEdat8"
   },
   "source": [
    "There are two options to load data into Google Colab. You can either download it directly from a server using a url, or you can load it by connecting to your Google Drive."
   ]
  },
  {
   "cell_type": "markdown",
   "metadata": {
    "colab_type": "text",
    "id": "woyWjbw0frWg"
   },
   "source": [
    "The first option is easier and will save you Drive space. However, the data will not be persistent when you close the colab session."
   ]
  },
  {
   "cell_type": "code",
   "execution_count": null,
   "metadata": {
    "colab": {},
    "colab_type": "code",
    "id": "KJ9NvzkDdEGS"
   },
   "outputs": [],
   "source": [
    "import requests\n",
    "\n",
    "# Download a file into the filename fn\n",
    "def download(url, fn=None):\n",
    "  if fn is None:\n",
    "    fn = url.split('/')[-1]\n",
    "  r = requests.get(url)\n",
    "  if r.status_code == 200:\n",
    "      open(fn, 'wb').write(r.content)\n",
    "      print(\"{} downloaded: {:.2f} KB\".format(fn, len(r.content)/1024.))\n",
    "  else:\n",
    "      print(\"url not found:\", url)"
   ]
  },
  {
   "cell_type": "code",
   "execution_count": null,
   "metadata": {
    "colab": {
     "base_uri": "https://localhost:8080/",
     "height": 51
    },
    "colab_type": "code",
    "id": "PhVmiPoRg7kF",
    "outputId": "471baafd-4081-45f6-8c2d-22bcaf119693"
   },
   "outputs": [],
   "source": [
    "download('http://6.869.csail.mit.edu/fa19/psets19/pset6/WelshCorgi.jpeg', 'dog.jpeg')\n",
    "! ls ."
   ]
  },
  {
   "cell_type": "markdown",
   "metadata": {
    "colab_type": "text",
    "id": "pb5qmxiqhQMR"
   },
   "source": [
    "To use Google Drive, you need to run the following code, and enter the authorization code."
   ]
  },
  {
   "cell_type": "code",
   "execution_count": null,
   "metadata": {
    "colab": {
     "base_uri": "https://localhost:8080/",
     "height": 122
    },
    "colab_type": "code",
    "id": "gp88V7DMhb6n",
    "outputId": "f43e15b3-42d0-47ff-80ee-ae99e7fc2ba8"
   },
   "outputs": [],
   "source": [
    "from google.colab import drive\n",
    "drive.mount('/content/drive')"
   ]
  },
  {
   "cell_type": "markdown",
   "metadata": {
    "colab_type": "text",
    "id": "IZLYHG8piA1D"
   },
   "source": [
    "You can access your data at `/content/drive/My Drive/`"
   ]
  },
  {
   "cell_type": "markdown",
   "metadata": {},
   "source": [
    "# Making direct links to notebooks on github\n",
    "\n",
    "You can make a direct link to a notebook on github using URLs of the following form:\n",
    "\n",
    "If tbe notebook can be seen on github with the following URL:\n",
    "    \n",
    "`https://github.com/davidbau/colabsecrets/blob/master/notebooks/colabnotebooksecrets.ipynb`\n",
    "\n",
    "Then it can be opened on colab with the following URL:\n",
    "    \n",
    "`https://colab.research.google.com/github/davidbau/colabsecrets/blob/master/notebooks/colabnotebooksecrets.ipynb`"
   ]
  },
  {
   "cell_type": "markdown",
   "metadata": {
    "colab_type": "text",
    "id": "e_9EDj_YsXWj"
   },
   "source": [
    "# Other Google Colab Survival Tricks\n",
    "\n",
    "1. Use torch.hub to download models and automatically cache them, so you do not need to redownload things.\n",
    "2. Use a utility like `netdissect.show` for showing grids of images and other data.\n",
    "3. Unlike juypter, every Colab cell runs on its own independent webpage (in an iframe), so normal widgets do not work.  Use `netdissect.labwidgets` instead.\n",
    "\n",
    "See the following examples to show these techniques.\n",
    "\n",
    "https://colab.research.google.com/github/SIDN-IAP/global-model-repr/blob/master/notebooks/gandissect_solutions.ipynb\n",
    "\n",
    "https://colab.research.google.com/github/SIDN-IAP/interactivity/blob/master/notebooks/ganpaint-solution.ipynb"
   ]
  },
  {
   "cell_type": "markdown",
   "metadata": {},
   "source": [
    "# Working with Images in Colab"
   ]
  },
  {
   "cell_type": "markdown",
   "metadata": {},
   "source": [
    "downloading and loading a dataset (see settings.py)"
   ]
  },
  {
   "cell_type": "code",
   "execution_count": null,
   "metadata": {},
   "outputs": [],
   "source": [
    "from experiment import setting\n",
    "dsv = setting.load_dataset('places', 'val')"
   ]
  },
  {
   "cell_type": "markdown",
   "metadata": {},
   "source": [
    "Showing an image"
   ]
  },
  {
   "cell_type": "code",
   "execution_count": null,
   "metadata": {},
   "outputs": [],
   "source": [
    "from netdissect import imgviz\n",
    "iv = imgviz.ImageVisualizer(128, source=dsv)"
   ]
  },
  {
   "cell_type": "code",
   "execution_count": null,
   "metadata": {},
   "outputs": [],
   "source": [
    "iv.image(dsv[10000][0])"
   ]
  },
  {
   "cell_type": "markdown",
   "metadata": {},
   "source": [
    "Showing a lot of images"
   ]
  },
  {
   "cell_type": "code",
   "execution_count": null,
   "metadata": {},
   "outputs": [],
   "source": [
    "from netdissect import show\n",
    "show([[i, iv.image(dsv[i][0])] for i in range(14)])"
   ]
  },
  {
   "cell_type": "markdown",
   "metadata": {},
   "source": [
    "# Interactive Widgets in Colab\n",
    "\n",
    "Make some interactions using labwidgets.\n",
    "\n",
    "A labwidget is just a piece of HTML that you can put on the notebook."
   ]
  },
  {
   "cell_type": "code",
   "execution_count": null,
   "metadata": {},
   "outputs": [],
   "source": [
    "some_input = labwidget.Textbox('123-132')\n",
    "btn = labwidget.Button('click me')\n",
    "div = labwidget.Div('<h1>My Title</h1><p>This is a paragraph of some HTML text.</p>')\n",
    "\n",
    "show(some_input)\n",
    "show(btn)\n",
    "show(div)"
   ]
  },
  {
   "cell_type": "markdown",
   "metadata": {},
   "source": [
    "You can change a labwidget's values and it will change on the screen right away.  You can also read values from the widgets."
   ]
  },
  {
   "cell_type": "code",
   "execution_count": null,
   "metadata": {},
   "outputs": [],
   "source": [
    "div.innerHTML = '<h2>Some new text</h2>'\n",
    "btn.style = {'width': '100%', 'background': 'pink'}\n",
    "print(some_input.value)"
   ]
  },
  {
   "cell_type": "markdown",
   "metadata": {},
   "source": [
    "Finally, the fancy thing you can do is hook up functions to the widgets that are called when they are clicked."
   ]
  },
  {
   "cell_type": "code",
   "execution_count": null,
   "metadata": {},
   "outputs": [],
   "source": [
    "def show_range():\n",
    "    if '-' in some_input.value:\n",
    "        first, last = [int (i) for i in some_input.value.split('-', 1)]\n",
    "        values = list(range(first, last + 1))\n",
    "    else:\n",
    "        values = [int(some_input.value)]\n",
    "    div.show([[i, iv.image(dsv[i][0])] for i in values])\n",
    "btn.on('click', show_range)"
   ]
  },
  {
   "cell_type": "markdown",
   "metadata": {},
   "source": [
    "You can bundle together widgets into your own widgets and make more complicated stuff."
   ]
  },
  {
   "cell_type": "code",
   "execution_count": null,
   "metadata": {},
   "outputs": [],
   "source": [
    "from netdissect import labwidget\n",
    "\n",
    "class MyWidget(labwidget.Widget):\n",
    "    def __init__(self):\n",
    "        super().__init__()\n",
    "        self.inp = labwidget.Textbox()\n",
    "        self.img = labwidget.Image()\n",
    "        def changed_value():\n",
    "            i = int(self.inp.value)\n",
    "            self.img.render(iv.image(dsv[i][0]))\n",
    "        self.inp.on('value', changed_value)\n",
    "    def widget_html(self):\n",
    "        return show.html([self.inp, self.img])\n",
    "\n",
    "widget1 = MyWidget()\n",
    "widget2 = MyWidget()\n",
    "show([widget1, widget2])"
   ]
  }
 ],
 "metadata": {
  "accelerator": "GPU",
  "colab": {
   "name": "colabnotebooksecrets.ipynb",
   "provenance": [],
   "toc_visible": true
  },
  "kernelspec": {
   "display_name": "Python 3",
   "language": "python",
   "name": "python3"
  },
  "language_info": {
   "codemirror_mode": {
    "name": "ipython",
    "version": 3
   },
   "file_extension": ".py",
   "mimetype": "text/x-python",
   "name": "python",
   "nbconvert_exporter": "python",
   "pygments_lexer": "ipython3",
   "version": "3.6.10"
  }
 },
 "nbformat": 4,
 "nbformat_minor": 1
}